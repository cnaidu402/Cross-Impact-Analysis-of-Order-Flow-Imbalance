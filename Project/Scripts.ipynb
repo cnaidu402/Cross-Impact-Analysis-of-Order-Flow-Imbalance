{
  "nbformat": 4,
  "nbformat_minor": 0,
  "metadata": {
    "colab": {
      "provenance": []
    },
    "kernelspec": {
      "name": "python3",
      "display_name": "Python 3"
    },
    "language_info": {
      "name": "python"
    }
  },
  "cells": [
    {
      "cell_type": "code",
      "execution_count": null,
      "metadata": {
        "id": "qxmpy2zmOKoN"
      },
      "outputs": [],
      "source": [
        "pip install pandas\n",
        "pip install numpy\n",
        "pip install Matplotlib\n",
        "pip install seaborn\n",
        "pip install sklearn"
      ]
    }
  ]
}